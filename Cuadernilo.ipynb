{
 "cells": [
  {
   "cell_type": "code",
   "execution_count": 1,
   "metadata": {},
   "outputs": [],
   "source": [
    "#prueba de FastAPI\n",
    "# python -m venv FastAPI001\n",
    "#Start-Process powershell -Verb RunAs\n",
    "#Set-ExecutionPolicy RemoteSigned\n",
    "#.\\FastAPI001\\Scripts\\Activate\n",
    "#Set-ExecutionPolicy Restricted  en el shell\n",
    "#deactivate"
   ]
  },
  {
   "cell_type": "code",
   "execution_count": 3,
   "metadata": {},
   "outputs": [],
   "source": [
    "from fastapi import FastAPI\n",
    "#crear una instacia\n",
    "app = FastAPI()\n",
    "\n",
    "@app.get('')\n",
    "def message():\n",
    "    return \"Hola mundo\""
   ]
  }
 ],
 "metadata": {
  "kernelspec": {
   "display_name": "FastAPI001",
   "language": "python",
   "name": "python3"
  },
  "language_info": {
   "codemirror_mode": {
    "name": "ipython",
    "version": 3
   },
   "file_extension": ".py",
   "mimetype": "text/x-python",
   "name": "python",
   "nbconvert_exporter": "python",
   "pygments_lexer": "ipython3",
   "version": "3.9.13"
  }
 },
 "nbformat": 4,
 "nbformat_minor": 2
}
